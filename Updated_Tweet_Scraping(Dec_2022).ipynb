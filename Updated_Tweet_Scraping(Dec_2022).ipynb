{
  "nbformat": 4,
  "nbformat_minor": 0,
  "metadata": {
    "colab": {
      "provenance": [],
      "include_colab_link": true
    },
    "kernelspec": {
      "name": "python3",
      "display_name": "Python 3"
    },
    "language_info": {
      "name": "python"
    },
    "widgets": {
      "application/vnd.jupyter.widget-state+json": {
        "72c6e50de68b486a929070823a8af780": {
          "model_module": "@jupyter-widgets/controls",
          "model_name": "HBoxModel",
          "model_module_version": "1.5.0",
          "state": {
            "_dom_classes": [],
            "_model_module": "@jupyter-widgets/controls",
            "_model_module_version": "1.5.0",
            "_model_name": "HBoxModel",
            "_view_count": null,
            "_view_module": "@jupyter-widgets/controls",
            "_view_module_version": "1.5.0",
            "_view_name": "HBoxView",
            "box_style": "",
            "children": [
              "IPY_MODEL_f96d2415b7714181b1b4381106dcf900",
              "IPY_MODEL_bd31b077369a4cc392b73595e2b1e5e7",
              "IPY_MODEL_076358a70ffc41fd80c9f8f351e07a98"
            ],
            "layout": "IPY_MODEL_2e3c1812571d48f9ae9c2e45cb61e9f6"
          }
        },
        "f96d2415b7714181b1b4381106dcf900": {
          "model_module": "@jupyter-widgets/controls",
          "model_name": "HTMLModel",
          "model_module_version": "1.5.0",
          "state": {
            "_dom_classes": [],
            "_model_module": "@jupyter-widgets/controls",
            "_model_module_version": "1.5.0",
            "_model_name": "HTMLModel",
            "_view_count": null,
            "_view_module": "@jupyter-widgets/controls",
            "_view_module_version": "1.5.0",
            "_view_name": "HTMLView",
            "description": "",
            "description_tooltip": null,
            "layout": "IPY_MODEL_c3aa8b00f6d946419691ba5e9f4bbe8e",
            "placeholder": "​",
            "style": "IPY_MODEL_f23ec0f522604aeea3fa15f9b4ea8bcd",
            "value": ""
          }
        },
        "bd31b077369a4cc392b73595e2b1e5e7": {
          "model_module": "@jupyter-widgets/controls",
          "model_name": "FloatProgressModel",
          "model_module_version": "1.5.0",
          "state": {
            "_dom_classes": [],
            "_model_module": "@jupyter-widgets/controls",
            "_model_module_version": "1.5.0",
            "_model_name": "FloatProgressModel",
            "_view_count": null,
            "_view_module": "@jupyter-widgets/controls",
            "_view_module_version": "1.5.0",
            "_view_name": "ProgressView",
            "bar_style": "danger",
            "description": "",
            "description_tooltip": null,
            "layout": "IPY_MODEL_1e226302869e43e790b8710cf7d7d03c",
            "max": 1000,
            "min": 0,
            "orientation": "horizontal",
            "style": "IPY_MODEL_f7b3d0966d5046a4b96e1a47f11d40d4",
            "value": 1000
          }
        },
        "076358a70ffc41fd80c9f8f351e07a98": {
          "model_module": "@jupyter-widgets/controls",
          "model_name": "HTMLModel",
          "model_module_version": "1.5.0",
          "state": {
            "_dom_classes": [],
            "_model_module": "@jupyter-widgets/controls",
            "_model_module_version": "1.5.0",
            "_model_name": "HTMLModel",
            "_view_count": null,
            "_view_module": "@jupyter-widgets/controls",
            "_view_module_version": "1.5.0",
            "_view_name": "HTMLView",
            "description": "",
            "description_tooltip": null,
            "layout": "IPY_MODEL_2aa8d97f68214832b35781a8a3a9bb7a",
            "placeholder": "​",
            "style": "IPY_MODEL_f2de0ebe33ed478ab8d4a33259b9f5a8",
            "value": " 1001/? [00:34&lt;00:00, 28.75it/s]"
          }
        },
        "2e3c1812571d48f9ae9c2e45cb61e9f6": {
          "model_module": "@jupyter-widgets/base",
          "model_name": "LayoutModel",
          "model_module_version": "1.2.0",
          "state": {
            "_model_module": "@jupyter-widgets/base",
            "_model_module_version": "1.2.0",
            "_model_name": "LayoutModel",
            "_view_count": null,
            "_view_module": "@jupyter-widgets/base",
            "_view_module_version": "1.2.0",
            "_view_name": "LayoutView",
            "align_content": null,
            "align_items": null,
            "align_self": null,
            "border": null,
            "bottom": null,
            "display": null,
            "flex": null,
            "flex_flow": null,
            "grid_area": null,
            "grid_auto_columns": null,
            "grid_auto_flow": null,
            "grid_auto_rows": null,
            "grid_column": null,
            "grid_gap": null,
            "grid_row": null,
            "grid_template_areas": null,
            "grid_template_columns": null,
            "grid_template_rows": null,
            "height": null,
            "justify_content": null,
            "justify_items": null,
            "left": null,
            "margin": null,
            "max_height": null,
            "max_width": null,
            "min_height": null,
            "min_width": null,
            "object_fit": null,
            "object_position": null,
            "order": null,
            "overflow": null,
            "overflow_x": null,
            "overflow_y": null,
            "padding": null,
            "right": null,
            "top": null,
            "visibility": null,
            "width": null
          }
        },
        "c3aa8b00f6d946419691ba5e9f4bbe8e": {
          "model_module": "@jupyter-widgets/base",
          "model_name": "LayoutModel",
          "model_module_version": "1.2.0",
          "state": {
            "_model_module": "@jupyter-widgets/base",
            "_model_module_version": "1.2.0",
            "_model_name": "LayoutModel",
            "_view_count": null,
            "_view_module": "@jupyter-widgets/base",
            "_view_module_version": "1.2.0",
            "_view_name": "LayoutView",
            "align_content": null,
            "align_items": null,
            "align_self": null,
            "border": null,
            "bottom": null,
            "display": null,
            "flex": null,
            "flex_flow": null,
            "grid_area": null,
            "grid_auto_columns": null,
            "grid_auto_flow": null,
            "grid_auto_rows": null,
            "grid_column": null,
            "grid_gap": null,
            "grid_row": null,
            "grid_template_areas": null,
            "grid_template_columns": null,
            "grid_template_rows": null,
            "height": null,
            "justify_content": null,
            "justify_items": null,
            "left": null,
            "margin": null,
            "max_height": null,
            "max_width": null,
            "min_height": null,
            "min_width": null,
            "object_fit": null,
            "object_position": null,
            "order": null,
            "overflow": null,
            "overflow_x": null,
            "overflow_y": null,
            "padding": null,
            "right": null,
            "top": null,
            "visibility": null,
            "width": null
          }
        },
        "f23ec0f522604aeea3fa15f9b4ea8bcd": {
          "model_module": "@jupyter-widgets/controls",
          "model_name": "DescriptionStyleModel",
          "model_module_version": "1.5.0",
          "state": {
            "_model_module": "@jupyter-widgets/controls",
            "_model_module_version": "1.5.0",
            "_model_name": "DescriptionStyleModel",
            "_view_count": null,
            "_view_module": "@jupyter-widgets/base",
            "_view_module_version": "1.2.0",
            "_view_name": "StyleView",
            "description_width": ""
          }
        },
        "1e226302869e43e790b8710cf7d7d03c": {
          "model_module": "@jupyter-widgets/base",
          "model_name": "LayoutModel",
          "model_module_version": "1.2.0",
          "state": {
            "_model_module": "@jupyter-widgets/base",
            "_model_module_version": "1.2.0",
            "_model_name": "LayoutModel",
            "_view_count": null,
            "_view_module": "@jupyter-widgets/base",
            "_view_module_version": "1.2.0",
            "_view_name": "LayoutView",
            "align_content": null,
            "align_items": null,
            "align_self": null,
            "border": null,
            "bottom": null,
            "display": null,
            "flex": null,
            "flex_flow": null,
            "grid_area": null,
            "grid_auto_columns": null,
            "grid_auto_flow": null,
            "grid_auto_rows": null,
            "grid_column": null,
            "grid_gap": null,
            "grid_row": null,
            "grid_template_areas": null,
            "grid_template_columns": null,
            "grid_template_rows": null,
            "height": null,
            "justify_content": null,
            "justify_items": null,
            "left": null,
            "margin": null,
            "max_height": null,
            "max_width": null,
            "min_height": null,
            "min_width": null,
            "object_fit": null,
            "object_position": null,
            "order": null,
            "overflow": null,
            "overflow_x": null,
            "overflow_y": null,
            "padding": null,
            "right": null,
            "top": null,
            "visibility": null,
            "width": null
          }
        },
        "f7b3d0966d5046a4b96e1a47f11d40d4": {
          "model_module": "@jupyter-widgets/controls",
          "model_name": "ProgressStyleModel",
          "model_module_version": "1.5.0",
          "state": {
            "_model_module": "@jupyter-widgets/controls",
            "_model_module_version": "1.5.0",
            "_model_name": "ProgressStyleModel",
            "_view_count": null,
            "_view_module": "@jupyter-widgets/base",
            "_view_module_version": "1.2.0",
            "_view_name": "StyleView",
            "bar_color": null,
            "description_width": ""
          }
        },
        "2aa8d97f68214832b35781a8a3a9bb7a": {
          "model_module": "@jupyter-widgets/base",
          "model_name": "LayoutModel",
          "model_module_version": "1.2.0",
          "state": {
            "_model_module": "@jupyter-widgets/base",
            "_model_module_version": "1.2.0",
            "_model_name": "LayoutModel",
            "_view_count": null,
            "_view_module": "@jupyter-widgets/base",
            "_view_module_version": "1.2.0",
            "_view_name": "LayoutView",
            "align_content": null,
            "align_items": null,
            "align_self": null,
            "border": null,
            "bottom": null,
            "display": null,
            "flex": null,
            "flex_flow": null,
            "grid_area": null,
            "grid_auto_columns": null,
            "grid_auto_flow": null,
            "grid_auto_rows": null,
            "grid_column": null,
            "grid_gap": null,
            "grid_row": null,
            "grid_template_areas": null,
            "grid_template_columns": null,
            "grid_template_rows": null,
            "height": null,
            "justify_content": null,
            "justify_items": null,
            "left": null,
            "margin": null,
            "max_height": null,
            "max_width": null,
            "min_height": null,
            "min_width": null,
            "object_fit": null,
            "object_position": null,
            "order": null,
            "overflow": null,
            "overflow_x": null,
            "overflow_y": null,
            "padding": null,
            "right": null,
            "top": null,
            "visibility": null,
            "width": null
          }
        },
        "f2de0ebe33ed478ab8d4a33259b9f5a8": {
          "model_module": "@jupyter-widgets/controls",
          "model_name": "DescriptionStyleModel",
          "model_module_version": "1.5.0",
          "state": {
            "_model_module": "@jupyter-widgets/controls",
            "_model_module_version": "1.5.0",
            "_model_name": "DescriptionStyleModel",
            "_view_count": null,
            "_view_module": "@jupyter-widgets/base",
            "_view_module_version": "1.2.0",
            "_view_name": "StyleView",
            "description_width": ""
          }
        }
      }
    }
  },
  "cells": [
    {
      "cell_type": "markdown",
      "metadata": {
        "id": "view-in-github",
        "colab_type": "text"
      },
      "source": [
        "<a href=\"https://colab.research.google.com/github/Wacu/Gender-Based-Discrimination-NLP/blob/main/Updated_Tweet_Scraping(Dec_2022).ipynb\" target=\"_parent\"><img src=\"https://colab.research.google.com/assets/colab-badge.svg\" alt=\"Open In Colab\"/></a>"
      ]
    },
    {
      "cell_type": "code",
      "source": [
        "!pip3 install git+https://github.com/JustAnotherArchivist/snscrape.git"
      ],
      "metadata": {
        "colab": {
          "base_uri": "https://localhost:8080/"
        },
        "id": "TNPTNKq9rswF",
        "outputId": "0b13e6da-40e1-473a-d935-3413217a3c86"
      },
      "execution_count": null,
      "outputs": [
        {
          "output_type": "stream",
          "name": "stdout",
          "text": [
            "Looking in indexes: https://pypi.org/simple, https://us-python.pkg.dev/colab-wheels/public/simple/\n",
            "Collecting git+https://github.com/JustAnotherArchivist/snscrape.git\n",
            "  Cloning https://github.com/JustAnotherArchivist/snscrape.git to /tmp/pip-req-build-9mb965h2\n",
            "  Running command git clone -q https://github.com/JustAnotherArchivist/snscrape.git /tmp/pip-req-build-9mb965h2\n",
            "Requirement already satisfied: requests[socks] in /usr/local/lib/python3.8/dist-packages (from snscrape==0.4.3.20220107.dev66+ge09aea7) (2.23.0)\n",
            "Requirement already satisfied: lxml in /usr/local/lib/python3.8/dist-packages (from snscrape==0.4.3.20220107.dev66+ge09aea7) (4.9.1)\n",
            "Requirement already satisfied: beautifulsoup4 in /usr/local/lib/python3.8/dist-packages (from snscrape==0.4.3.20220107.dev66+ge09aea7) (4.6.3)\n",
            "Requirement already satisfied: filelock in /usr/local/lib/python3.8/dist-packages (from snscrape==0.4.3.20220107.dev66+ge09aea7) (3.8.0)\n",
            "Requirement already satisfied: pytz in /usr/local/lib/python3.8/dist-packages (from snscrape==0.4.3.20220107.dev66+ge09aea7) (2022.6)\n",
            "Requirement already satisfied: chardet<4,>=3.0.2 in /usr/local/lib/python3.8/dist-packages (from requests[socks]->snscrape==0.4.3.20220107.dev66+ge09aea7) (3.0.4)\n",
            "Requirement already satisfied: idna<3,>=2.5 in /usr/local/lib/python3.8/dist-packages (from requests[socks]->snscrape==0.4.3.20220107.dev66+ge09aea7) (2.10)\n",
            "Requirement already satisfied: certifi>=2017.4.17 in /usr/local/lib/python3.8/dist-packages (from requests[socks]->snscrape==0.4.3.20220107.dev66+ge09aea7) (2022.9.24)\n",
            "Requirement already satisfied: urllib3!=1.25.0,!=1.25.1,<1.26,>=1.21.1 in /usr/local/lib/python3.8/dist-packages (from requests[socks]->snscrape==0.4.3.20220107.dev66+ge09aea7) (1.24.3)\n",
            "Requirement already satisfied: PySocks!=1.5.7,>=1.5.6 in /usr/local/lib/python3.8/dist-packages (from requests[socks]->snscrape==0.4.3.20220107.dev66+ge09aea7) (1.7.1)\n",
            "Building wheels for collected packages: snscrape\n",
            "  Building wheel for snscrape (setup.py) ... \u001b[?25l\u001b[?25hdone\n",
            "  Created wheel for snscrape: filename=snscrape-0.4.3.20220107.dev66+ge09aea7-py3-none-any.whl size=68008 sha256=05d09ddce2e7ab7810a20b6290c775745dbca67976ea8644c697713fadc95a39\n",
            "  Stored in directory: /tmp/pip-ephem-wheel-cache-e244oh5i/wheels/92/42/87/33fa9b18f7a75d02643a9ca3743339aec9be28c6796267c7d8\n",
            "Successfully built snscrape\n",
            "Installing collected packages: snscrape\n",
            "Successfully installed snscrape-0.4.3.20220107.dev66+ge09aea7\n"
          ]
        }
      ]
    },
    {
      "cell_type": "code",
      "execution_count": null,
      "metadata": {
        "id": "2a0YsdnBrLIZ"
      },
      "outputs": [],
      "source": [
        "import pandas as pd\n",
        "from tqdm.notebook import tqdm\n",
        "import snscrape.modules.twitter as sntwitter"
      ]
    },
    {
      "cell_type": "code",
      "source": [
        "scraper = sntwitter.TwitterSearchScraper(\"#python\")"
      ],
      "metadata": {
        "id": "MoyBKhojrbf7"
      },
      "execution_count": null,
      "outputs": []
    },
    {
      "cell_type": "code",
      "source": [
        "for tweet in scraper.get_items():\n",
        "  break"
      ],
      "metadata": {
        "id": "3s_d8zvjrwMy"
      },
      "execution_count": null,
      "outputs": []
    },
    {
      "cell_type": "code",
      "source": [
        "tweet"
      ],
      "metadata": {
        "colab": {
          "base_uri": "https://localhost:8080/"
        },
        "id": "8MQy0mTesBCS",
        "outputId": "897735cb-c58a-4339-cd69-2d4962ed98c5"
      },
      "execution_count": null,
      "outputs": [
        {
          "output_type": "execute_result",
          "data": {
            "text/plain": [
              "Tweet(url='https://twitter.com/GeniusEssayHelp/status/1599491017488465920', date=datetime.datetime(2022, 12, 4, 19, 49, 10, tzinfo=datetime.timezone.utc), rawContent='Need help with any of the following?\\n#Physics.\\n#Astronomy.\\n#calculus 1,2\\n#essay due.\\n#math.\\n#Sociology.\\n#accounting.\\n#essay pay.\\n#algebra.\\n#Python.\\n#geometry.\\n#Statistics.\\n#Biology.\\n#Psychology.\\n#English.\\n#History.\\nEmail geniuswriters061@gmail.com', renderedContent='Need help with any of the following?\\n#Physics.\\n#Astronomy.\\n#calculus 1,2\\n#essay due.\\n#math.\\n#Sociology.\\n#accounting.\\n#essay pay.\\n#algebra.\\n#Python.\\n#geometry.\\n#Statistics.\\n#Biology.\\n#Psychology.\\n#English.\\n#History.\\nEmail geniuswriters061@gmail.com', id=1599491017488465920, user=User(username='GeniusEssayHelp', id=895691806750330880, displayname='Genius ESSAY writers', rawDescription='we are a team of experts in academic writing. Essay, Assignment, Homework,Thesis,English, Power Point, Dissertations. Email geniuswriters061@gmail.com', renderedDescription='we are a team of experts in academic writing. Essay, Assignment, Homework,Thesis,English, Power Point, Dissertations. Email geniuswriters061@gmail.com', descriptionLinks=None, verified=False, created=datetime.datetime(2017, 8, 10, 17, 2, 22, tzinfo=datetime.timezone.utc), followersCount=1283, friendsCount=3178, statusesCount=58963, favouritesCount=46948, listedCount=0, mediaCount=596, location='Davenport, FL', protected=False, link=None, profileImageUrl='https://pbs.twimg.com/profile_images/1407780887933112330/5XH7iFM0_normal.jpg', profileBannerUrl='https://pbs.twimg.com/profile_banners/895691806750330880/1624002657', label=None), replyCount=0, retweetCount=0, likeCount=0, quoteCount=0, conversationId=1599491017488465920, lang='en', source='<a href=\"http://twitter.com/download/android\" rel=\"nofollow\">Twitter for Android</a>', sourceUrl='http://twitter.com/download/android', sourceLabel='Twitter for Android', links=None, media=None, retweetedTweet=None, quotedTweet=None, inReplyToTweetId=None, inReplyToUser=None, mentionedUsers=None, coordinates=None, place=None, hashtags=['Physics', 'Astronomy', 'calculus', 'essay', 'math', 'Sociology', 'accounting', 'essay', 'algebra', 'Python', 'geometry', 'Statistics', 'Biology', 'Psychology', 'English', 'History'], cashtags=None, card=None)"
            ]
          },
          "metadata": {},
          "execution_count": 7
        }
      ]
    },
    {
      "cell_type": "markdown",
      "source": [
        "## Extract Tweet Data"
      ],
      "metadata": {
        "id": "mXLBMda3sWPu"
      }
    },
    {
      "cell_type": "code",
      "source": [
        "scraper = sntwitter.TwitterSearchScraper(\"#gbv#violence\")\n",
        "\n",
        "tweets = []\n",
        "n_tweets = 1000\n",
        "\n",
        "for i, tweet in tqdm(enumerate(scraper.get_items()), total=n_tweets):\n",
        "  data = [\n",
        "      tweet.date, \n",
        "      tweet.id, \n",
        "      tweet.rawContent, \n",
        "      tweet.username, \n",
        "      tweet.likeCount, \n",
        "      tweet.retweetCount\n",
        "  ]\n",
        "  tweets.append(data)  \n",
        "  if i > n_tweets:\n",
        "    break\n",
        "\n",
        "tweet_df = pd.DataFrame(\n",
        "    tweets, columns=['date', 'id', 'content', 'username', 'likeCount', 'retweetCount']\n",
        "    )\n",
        "tweet_df.to_csv(\"gbv-tweets.csv\", index=False)"
      ],
      "metadata": {
        "colab": {
          "base_uri": "https://localhost:8080/",
          "height": 104,
          "referenced_widgets": [
            "72c6e50de68b486a929070823a8af780",
            "f96d2415b7714181b1b4381106dcf900",
            "bd31b077369a4cc392b73595e2b1e5e7",
            "076358a70ffc41fd80c9f8f351e07a98",
            "2e3c1812571d48f9ae9c2e45cb61e9f6",
            "c3aa8b00f6d946419691ba5e9f4bbe8e",
            "f23ec0f522604aeea3fa15f9b4ea8bcd",
            "1e226302869e43e790b8710cf7d7d03c",
            "f7b3d0966d5046a4b96e1a47f11d40d4",
            "2aa8d97f68214832b35781a8a3a9bb7a",
            "f2de0ebe33ed478ab8d4a33259b9f5a8"
          ]
        },
        "id": "5Zovqj3asBmF",
        "outputId": "2ad12980-9051-458d-86e7-6f8eaf451689"
      },
      "execution_count": null,
      "outputs": [
        {
          "output_type": "display_data",
          "data": {
            "text/plain": [
              "  0%|          | 0/1000 [00:00<?, ?it/s]"
            ],
            "application/vnd.jupyter.widget-view+json": {
              "version_major": 2,
              "version_minor": 0,
              "model_id": "72c6e50de68b486a929070823a8af780"
            }
          },
          "metadata": {}
        },
        {
          "output_type": "stream",
          "name": "stderr",
          "text": [
            "<ipython-input-30-dec3d1cc7e9a>:11: FutureWarning: username is deprecated, use user.username instead\n",
            "  tweet.username,\n"
          ]
        }
      ]
    },
    {
      "cell_type": "code",
      "source": [
        "len(tweets)"
      ],
      "metadata": {
        "colab": {
          "base_uri": "https://localhost:8080/"
        },
        "id": "Zp5S6rsjsw9y",
        "outputId": "49749bf1-9718-48b7-849f-a1c1cc5dedb3"
      },
      "execution_count": null,
      "outputs": [
        {
          "output_type": "execute_result",
          "data": {
            "text/plain": [
              "1002"
            ]
          },
          "metadata": {},
          "execution_count": 31
        }
      ]
    },
    {
      "cell_type": "code",
      "source": [
        "tweet_df.tail()"
      ],
      "metadata": {
        "colab": {
          "base_uri": "https://localhost:8080/",
          "height": 374
        },
        "id": "gtH08h9nteyp",
        "outputId": "813adcca-f4ae-442f-9797-b173953727c1"
      },
      "execution_count": null,
      "outputs": [
        {
          "output_type": "execute_result",
          "data": {
            "text/plain": [
              "                          date                   id  \\\n",
              "997  2019-12-10 14:02:33+00:00  1204401015459655681   \n",
              "998  2019-12-10 08:04:14+00:00  1204310843040714752   \n",
              "999  2019-12-09 20:51:57+00:00  1204141657744117761   \n",
              "1000 2019-12-08 17:06:10+00:00  1203722450254602240   \n",
              "1001 2019-12-07 09:46:04+00:00  1203249307161370627   \n",
              "\n",
              "                                                content         username  \\\n",
              "997   In LINKAGES’ #16Days blog post, read how the p...         EpiCproj   \n",
              "998   Come support us build an art centre for women ...       AridiVicky   \n",
              "999   There is no place for #violence in #Guyana's #...      SASODGuyana   \n",
              "1000  The @EducationGuyana should take meaningful st...      SASODGuyana   \n",
              "1001  To support the #16DaysofActivismCampaign on th...  forozan_rasooli   \n",
              "\n",
              "      likeCount  retweetCount  \n",
              "997           1             0  \n",
              "998          20            10  \n",
              "999           5             2  \n",
              "1000          1             1  \n",
              "1001          2             0  "
            ],
            "text/html": [
              "\n",
              "  <div id=\"df-ffd8dc8e-6951-4ecc-b210-ef0c8138fa8c\">\n",
              "    <div class=\"colab-df-container\">\n",
              "      <div>\n",
              "<style scoped>\n",
              "    .dataframe tbody tr th:only-of-type {\n",
              "        vertical-align: middle;\n",
              "    }\n",
              "\n",
              "    .dataframe tbody tr th {\n",
              "        vertical-align: top;\n",
              "    }\n",
              "\n",
              "    .dataframe thead th {\n",
              "        text-align: right;\n",
              "    }\n",
              "</style>\n",
              "<table border=\"1\" class=\"dataframe\">\n",
              "  <thead>\n",
              "    <tr style=\"text-align: right;\">\n",
              "      <th></th>\n",
              "      <th>date</th>\n",
              "      <th>id</th>\n",
              "      <th>content</th>\n",
              "      <th>username</th>\n",
              "      <th>likeCount</th>\n",
              "      <th>retweetCount</th>\n",
              "    </tr>\n",
              "  </thead>\n",
              "  <tbody>\n",
              "    <tr>\n",
              "      <th>997</th>\n",
              "      <td>2019-12-10 14:02:33+00:00</td>\n",
              "      <td>1204401015459655681</td>\n",
              "      <td>In LINKAGES’ #16Days blog post, read how the p...</td>\n",
              "      <td>EpiCproj</td>\n",
              "      <td>1</td>\n",
              "      <td>0</td>\n",
              "    </tr>\n",
              "    <tr>\n",
              "      <th>998</th>\n",
              "      <td>2019-12-10 08:04:14+00:00</td>\n",
              "      <td>1204310843040714752</td>\n",
              "      <td>Come support us build an art centre for women ...</td>\n",
              "      <td>AridiVicky</td>\n",
              "      <td>20</td>\n",
              "      <td>10</td>\n",
              "    </tr>\n",
              "    <tr>\n",
              "      <th>999</th>\n",
              "      <td>2019-12-09 20:51:57+00:00</td>\n",
              "      <td>1204141657744117761</td>\n",
              "      <td>There is no place for #violence in #Guyana's #...</td>\n",
              "      <td>SASODGuyana</td>\n",
              "      <td>5</td>\n",
              "      <td>2</td>\n",
              "    </tr>\n",
              "    <tr>\n",
              "      <th>1000</th>\n",
              "      <td>2019-12-08 17:06:10+00:00</td>\n",
              "      <td>1203722450254602240</td>\n",
              "      <td>The @EducationGuyana should take meaningful st...</td>\n",
              "      <td>SASODGuyana</td>\n",
              "      <td>1</td>\n",
              "      <td>1</td>\n",
              "    </tr>\n",
              "    <tr>\n",
              "      <th>1001</th>\n",
              "      <td>2019-12-07 09:46:04+00:00</td>\n",
              "      <td>1203249307161370627</td>\n",
              "      <td>To support the #16DaysofActivismCampaign on th...</td>\n",
              "      <td>forozan_rasooli</td>\n",
              "      <td>2</td>\n",
              "      <td>0</td>\n",
              "    </tr>\n",
              "  </tbody>\n",
              "</table>\n",
              "</div>\n",
              "      <button class=\"colab-df-convert\" onclick=\"convertToInteractive('df-ffd8dc8e-6951-4ecc-b210-ef0c8138fa8c')\"\n",
              "              title=\"Convert this dataframe to an interactive table.\"\n",
              "              style=\"display:none;\">\n",
              "        \n",
              "  <svg xmlns=\"http://www.w3.org/2000/svg\" height=\"24px\"viewBox=\"0 0 24 24\"\n",
              "       width=\"24px\">\n",
              "    <path d=\"M0 0h24v24H0V0z\" fill=\"none\"/>\n",
              "    <path d=\"M18.56 5.44l.94 2.06.94-2.06 2.06-.94-2.06-.94-.94-2.06-.94 2.06-2.06.94zm-11 1L8.5 8.5l.94-2.06 2.06-.94-2.06-.94L8.5 2.5l-.94 2.06-2.06.94zm10 10l.94 2.06.94-2.06 2.06-.94-2.06-.94-.94-2.06-.94 2.06-2.06.94z\"/><path d=\"M17.41 7.96l-1.37-1.37c-.4-.4-.92-.59-1.43-.59-.52 0-1.04.2-1.43.59L10.3 9.45l-7.72 7.72c-.78.78-.78 2.05 0 2.83L4 21.41c.39.39.9.59 1.41.59.51 0 1.02-.2 1.41-.59l7.78-7.78 2.81-2.81c.8-.78.8-2.07 0-2.86zM5.41 20L4 18.59l7.72-7.72 1.47 1.35L5.41 20z\"/>\n",
              "  </svg>\n",
              "      </button>\n",
              "      \n",
              "  <style>\n",
              "    .colab-df-container {\n",
              "      display:flex;\n",
              "      flex-wrap:wrap;\n",
              "      gap: 12px;\n",
              "    }\n",
              "\n",
              "    .colab-df-convert {\n",
              "      background-color: #E8F0FE;\n",
              "      border: none;\n",
              "      border-radius: 50%;\n",
              "      cursor: pointer;\n",
              "      display: none;\n",
              "      fill: #1967D2;\n",
              "      height: 32px;\n",
              "      padding: 0 0 0 0;\n",
              "      width: 32px;\n",
              "    }\n",
              "\n",
              "    .colab-df-convert:hover {\n",
              "      background-color: #E2EBFA;\n",
              "      box-shadow: 0px 1px 2px rgba(60, 64, 67, 0.3), 0px 1px 3px 1px rgba(60, 64, 67, 0.15);\n",
              "      fill: #174EA6;\n",
              "    }\n",
              "\n",
              "    [theme=dark] .colab-df-convert {\n",
              "      background-color: #3B4455;\n",
              "      fill: #D2E3FC;\n",
              "    }\n",
              "\n",
              "    [theme=dark] .colab-df-convert:hover {\n",
              "      background-color: #434B5C;\n",
              "      box-shadow: 0px 1px 3px 1px rgba(0, 0, 0, 0.15);\n",
              "      filter: drop-shadow(0px 1px 2px rgba(0, 0, 0, 0.3));\n",
              "      fill: #FFFFFF;\n",
              "    }\n",
              "  </style>\n",
              "\n",
              "      <script>\n",
              "        const buttonEl =\n",
              "          document.querySelector('#df-ffd8dc8e-6951-4ecc-b210-ef0c8138fa8c button.colab-df-convert');\n",
              "        buttonEl.style.display =\n",
              "          google.colab.kernel.accessAllowed ? 'block' : 'none';\n",
              "\n",
              "        async function convertToInteractive(key) {\n",
              "          const element = document.querySelector('#df-ffd8dc8e-6951-4ecc-b210-ef0c8138fa8c');\n",
              "          const dataTable =\n",
              "            await google.colab.kernel.invokeFunction('convertToInteractive',\n",
              "                                                     [key], {});\n",
              "          if (!dataTable) return;\n",
              "\n",
              "          const docLinkHtml = 'Like what you see? Visit the ' +\n",
              "            '<a target=\"_blank\" href=https://colab.research.google.com/notebooks/data_table.ipynb>data table notebook</a>'\n",
              "            + ' to learn more about interactive tables.';\n",
              "          element.innerHTML = '';\n",
              "          dataTable['output_type'] = 'display_data';\n",
              "          await google.colab.output.renderOutput(dataTable, element);\n",
              "          const docLink = document.createElement('div');\n",
              "          docLink.innerHTML = docLinkHtml;\n",
              "          element.appendChild(docLink);\n",
              "        }\n",
              "      </script>\n",
              "    </div>\n",
              "  </div>\n",
              "  "
            ]
          },
          "metadata": {},
          "execution_count": 32
        }
      ]
    },
    {
      "cell_type": "code",
      "source": [],
      "metadata": {
        "id": "O2bZlHl0twAA"
      },
      "execution_count": null,
      "outputs": []
    }
  ]
}