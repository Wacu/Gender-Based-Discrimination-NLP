{
  "nbformat": 4,
  "nbformat_minor": 0,
  "metadata": {
    "colab": {
      "name": "GBV_Sentiment Analysis_TextBlob.ipynb",
      "provenance": [],
      "collapsed_sections": [],
      "include_colab_link": true
    },
    "kernelspec": {
      "name": "python3",
      "display_name": "Python 3"
    },
    "language_info": {
      "name": "python"
    }
  },
  "cells": [
    {
      "cell_type": "markdown",
      "metadata": {
        "id": "view-in-github",
        "colab_type": "text"
      },
      "source": [
        "<a href=\"https://colab.research.google.com/github/Wacu/Gender-Based-Discrimination-NLP/blob/main/GBV_Sentiment_Analysis_TextBlob.ipynb\" target=\"_parent\"><img src=\"https://colab.research.google.com/assets/colab-badge.svg\" alt=\"Open In Colab\"/></a>"
      ]
    },
    {
      "cell_type": "markdown",
      "metadata": {
        "id": "t8OOZpk8Eczv"
      },
      "source": [
        "## GBV Sentiment Analysis \n",
        "\n",
        "Lets get the sentiment and polarity of the tweets-attitude or emotion of thetext"
      ]
    },
    {
      "cell_type": "markdown",
      "metadata": {
        "id": "DHVfaQsZm-g3"
      },
      "source": [
        "Short Description"
      ]
    },
    {
      "cell_type": "markdown",
      "metadata": {
        "id": "cOhBPnjBEqD4"
      },
      "source": [
        "### Resources\n",
        "* Towards DS: [A brief intro to sentiment Analysis](https://towardsdatascience.com/sentiment-analysis-concept-analysis-and-applications-6c94d6f58c17)\n",
        "*Monkey learn: [S A](https://monkeylearn.com/blog/sentiment-analysis-machine-learning/)\n",
        "*Pluralsight: [Texblob](https://www.pluralsight.com/guides/natural-language-processing-extracting-sentiment-from-text-data)"
      ]
    },
    {
      "cell_type": "markdown",
      "metadata": {
        "id": "lp0kvmQ5EZlc"
      },
      "source": [
        "### Import Libraries"
      ]
    },
    {
      "cell_type": "code",
      "metadata": {
        "id": "3806-VjnYrHB"
      },
      "source": [
        "%%capture \n",
        "#Import libraries\n",
        "import pandas as pd\n",
        "import numpy as np\n",
        "\n",
        "import warnings\n",
        "warnings.filterwarnings('ignore')\n",
        "\n",
        "#Text formatting\n",
        "import nltk\n",
        "nltk.download('stopwords')\n",
        "\n",
        "#Installing Texblob\n",
        "!pip install -U textblob\n",
        "!python -m textblob.download_corpora\n",
        "\n",
        "from textblob import TextBlob, Word, Blobber"
      ],
      "execution_count": null,
      "outputs": []
    },
    {
      "cell_type": "code",
      "metadata": {
        "id": "wG7fJxGlB8Nw",
        "colab": {
          "base_uri": "https://localhost:8080/"
        },
        "outputId": "2dd9ec2a-8f01-49fe-9098-4438ed525c2f"
      },
      "source": [
        "text=TextBlob(\"Damn! I hate Math\")\n",
        "print(text)\n",
        "text.sentiment"
      ],
      "execution_count": null,
      "outputs": [
        {
          "output_type": "stream",
          "text": [
            "Damn! I hate Math\n"
          ],
          "name": "stdout"
        },
        {
          "output_type": "execute_result",
          "data": {
            "text/plain": [
              "Sentiment(polarity=-0.8, subjectivity=0.9)"
            ]
          },
          "metadata": {
            "tags": []
          },
          "execution_count": 112
        }
      ]
    },
    {
      "cell_type": "markdown",
      "metadata": {
        "id": "KfqHDVvUDS0_"
      },
      "source": [
        "Explaining the output. The polarity is -0.8 which is close to -1. This implies that this is a very negative statement. Polarity lies between -1 to 1 with 1 showing high positivity. \n",
        "Subjectivity lies between 0 and 1. Values closer to 1 show that the statement is most probably a public opinion and not a factual piece of information.  Hatred for Maths seems to be a public opinion with no facts"
      ]
    },
    {
      "cell_type": "markdown",
      "metadata": {
        "id": "UpNp62xSEXIa"
      },
      "source": [
        "### Load the Dataset"
      ]
    },
    {
      "cell_type": "code",
      "metadata": {
        "id": "U03PNDBwatrP",
        "colab": {
          "base_uri": "https://localhost:8080/",
          "height": 321
        },
        "outputId": "94c4ea62-9a11-403a-bca4-fdb8cab3cd5f"
      },
      "source": [
        "df = pd.read_csv(\"GBV_data_clean_v01.csv\", error_bad_lines=False)\n",
        "print(df.shape)\n",
        "df.head()"
      ],
      "execution_count": null,
      "outputs": [
        {
          "output_type": "stream",
          "text": [
            "(46172, 9)\n"
          ],
          "name": "stdout"
        },
        {
          "output_type": "execute_result",
          "data": {
            "text/html": [
              "<div>\n",
              "<style scoped>\n",
              "    .dataframe tbody tr th:only-of-type {\n",
              "        vertical-align: middle;\n",
              "    }\n",
              "\n",
              "    .dataframe tbody tr th {\n",
              "        vertical-align: top;\n",
              "    }\n",
              "\n",
              "    .dataframe thead th {\n",
              "        text-align: right;\n",
              "    }\n",
              "</style>\n",
              "<table border=\"1\" class=\"dataframe\">\n",
              "  <thead>\n",
              "    <tr style=\"text-align: right;\">\n",
              "      <th></th>\n",
              "      <th>Unnamed: 0</th>\n",
              "      <th>Unnamed: 0.1</th>\n",
              "      <th>username</th>\n",
              "      <th>new_tweets</th>\n",
              "      <th>clean_tweets</th>\n",
              "      <th>tweets_without_stopwords</th>\n",
              "      <th>replies</th>\n",
              "      <th>retweets</th>\n",
              "      <th>likes</th>\n",
              "    </tr>\n",
              "  </thead>\n",
              "  <tbody>\n",
              "    <tr>\n",
              "      <th>0</th>\n",
              "      <td>0</td>\n",
              "      <td>0</td>\n",
              "      <td>shaybspears</td>\n",
              "      <td>We should talk more about how this dangerous w...</td>\n",
              "      <td>we should talk more about how this dangerous w...</td>\n",
              "      <td>talk dangerous woman stalking britney sending ...</td>\n",
              "      <td>1</td>\n",
              "      <td>14</td>\n",
              "      <td>27</td>\n",
              "    </tr>\n",
              "    <tr>\n",
              "      <th>1</th>\n",
              "      <td>1</td>\n",
              "      <td>1</td>\n",
              "      <td>kaylanicole9991</td>\n",
              "      <td>And no, getting me drunk wonât work. After w...</td>\n",
              "      <td>and no getting me drunk won  t work after what...</td>\n",
              "      <td>getting drunk work happened male best friend j...</td>\n",
              "      <td>1</td>\n",
              "      <td>0</td>\n",
              "      <td>0</td>\n",
              "    </tr>\n",
              "    <tr>\n",
              "      <th>2</th>\n",
              "      <td>2</td>\n",
              "      <td>2</td>\n",
              "      <td>marge78355824</td>\n",
              "      <td>Itâs not just about seeing a random penis...</td>\n",
              "      <td>it  s not just about seeing a random penis ...</td>\n",
              "      <td>seeing random penis fear every woman sexual vi...</td>\n",
              "      <td>1</td>\n",
              "      <td>0</td>\n",
              "      <td>1</td>\n",
              "    </tr>\n",
              "    <tr>\n",
              "      <th>3</th>\n",
              "      <td>3</td>\n",
              "      <td>3</td>\n",
              "      <td>explorevenango</td>\n",
              "      <td>A Franklin woman who left multiple messages in...</td>\n",
              "      <td>a franklin woman who left multiple messages in...</td>\n",
              "      <td>franklin woman left multiple messages attempt ...</td>\n",
              "      <td>0</td>\n",
              "      <td>0</td>\n",
              "      <td>0</td>\n",
              "    </tr>\n",
              "    <tr>\n",
              "      <th>4</th>\n",
              "      <td>4</td>\n",
              "      <td>4</td>\n",
              "      <td>politikscommon</td>\n",
              "      <td>I did read the details. Walker was also sue...</td>\n",
              "      <td>i did read the details walker was also sued...</td>\n",
              "      <td>read details walker also sued woman accused wa...</td>\n",
              "      <td>1</td>\n",
              "      <td>0</td>\n",
              "      <td>0</td>\n",
              "    </tr>\n",
              "  </tbody>\n",
              "</table>\n",
              "</div>"
            ],
            "text/plain": [
              "   Unnamed: 0  Unnamed: 0.1         username  ... replies retweets likes\n",
              "0           0             0      shaybspears  ...       1       14    27\n",
              "1           1             1  kaylanicole9991  ...       1        0     0\n",
              "2           2             2    marge78355824  ...       1        0     1\n",
              "3           3             3   explorevenango  ...       0        0     0\n",
              "4           4             4   politikscommon  ...       1        0     0\n",
              "\n",
              "[5 rows x 9 columns]"
            ]
          },
          "metadata": {
            "tags": []
          },
          "execution_count": 113
        }
      ]
    },
    {
      "cell_type": "code",
      "metadata": {
        "id": "6UuXzu1ipxD7"
      },
      "source": [
        "df.dropna(inplace=True)\n",
        "df.reset_index(drop=True, inplace=True)"
      ],
      "execution_count": null,
      "outputs": []
    },
    {
      "cell_type": "code",
      "metadata": {
        "colab": {
          "base_uri": "https://localhost:8080/",
          "height": 1000
        },
        "id": "Spvjge4aqc9o",
        "outputId": "59edca63-c6ad-483b-edd8-761777977209"
      },
      "source": [
        "\n",
        "df.head(30)"
      ],
      "execution_count": null,
      "outputs": [
        {
          "output_type": "execute_result",
          "data": {
            "text/html": [
              "<div>\n",
              "<style scoped>\n",
              "    .dataframe tbody tr th:only-of-type {\n",
              "        vertical-align: middle;\n",
              "    }\n",
              "\n",
              "    .dataframe tbody tr th {\n",
              "        vertical-align: top;\n",
              "    }\n",
              "\n",
              "    .dataframe thead th {\n",
              "        text-align: right;\n",
              "    }\n",
              "</style>\n",
              "<table border=\"1\" class=\"dataframe\">\n",
              "  <thead>\n",
              "    <tr style=\"text-align: right;\">\n",
              "      <th></th>\n",
              "      <th>Unnamed: 0</th>\n",
              "      <th>Unnamed: 0.1</th>\n",
              "      <th>username</th>\n",
              "      <th>new_tweets</th>\n",
              "      <th>clean_tweets</th>\n",
              "      <th>tweets_without_stopwords</th>\n",
              "      <th>replies</th>\n",
              "      <th>retweets</th>\n",
              "      <th>likes</th>\n",
              "    </tr>\n",
              "  </thead>\n",
              "  <tbody>\n",
              "    <tr>\n",
              "      <th>0</th>\n",
              "      <td>0</td>\n",
              "      <td>0</td>\n",
              "      <td>shaybspears</td>\n",
              "      <td>We should talk more about how this dangerous w...</td>\n",
              "      <td>we should talk more about how this dangerous w...</td>\n",
              "      <td>talk dangerous woman stalking britney sending ...</td>\n",
              "      <td>1</td>\n",
              "      <td>14</td>\n",
              "      <td>27</td>\n",
              "    </tr>\n",
              "    <tr>\n",
              "      <th>1</th>\n",
              "      <td>1</td>\n",
              "      <td>1</td>\n",
              "      <td>kaylanicole9991</td>\n",
              "      <td>And no, getting me drunk wonât work. After w...</td>\n",
              "      <td>and no getting me drunk won  t work after what...</td>\n",
              "      <td>getting drunk work happened male best friend j...</td>\n",
              "      <td>1</td>\n",
              "      <td>0</td>\n",
              "      <td>0</td>\n",
              "    </tr>\n",
              "    <tr>\n",
              "      <th>2</th>\n",
              "      <td>2</td>\n",
              "      <td>2</td>\n",
              "      <td>marge78355824</td>\n",
              "      <td>Itâs not just about seeing a random penis...</td>\n",
              "      <td>it  s not just about seeing a random penis ...</td>\n",
              "      <td>seeing random penis fear every woman sexual vi...</td>\n",
              "      <td>1</td>\n",
              "      <td>0</td>\n",
              "      <td>1</td>\n",
              "    </tr>\n",
              "    <tr>\n",
              "      <th>3</th>\n",
              "      <td>3</td>\n",
              "      <td>3</td>\n",
              "      <td>explorevenango</td>\n",
              "      <td>A Franklin woman who left multiple messages in...</td>\n",
              "      <td>a franklin woman who left multiple messages in...</td>\n",
              "      <td>franklin woman left multiple messages attempt ...</td>\n",
              "      <td>0</td>\n",
              "      <td>0</td>\n",
              "      <td>0</td>\n",
              "    </tr>\n",
              "    <tr>\n",
              "      <th>4</th>\n",
              "      <td>4</td>\n",
              "      <td>4</td>\n",
              "      <td>politikscommon</td>\n",
              "      <td>I did read the details. Walker was also sue...</td>\n",
              "      <td>i did read the details walker was also sued...</td>\n",
              "      <td>read details walker also sued woman accused wa...</td>\n",
              "      <td>1</td>\n",
              "      <td>0</td>\n",
              "      <td>0</td>\n",
              "    </tr>\n",
              "    <tr>\n",
              "      <th>5</th>\n",
              "      <td>5</td>\n",
              "      <td>5</td>\n",
              "      <td>lulabelldesigns</td>\n",
              "      <td>ALERT: Devin Nunes needs your help ASAP. We MU...</td>\n",
              "      <td>alert devin nunes needs your help asap we must...</td>\n",
              "      <td>alert devin nunes needs help asap must defend ...</td>\n",
              "      <td>0</td>\n",
              "      <td>1</td>\n",
              "      <td>3</td>\n",
              "    </tr>\n",
              "    <tr>\n",
              "      <th>6</th>\n",
              "      <td>6</td>\n",
              "      <td>6</td>\n",
              "      <td>cole_wex</td>\n",
              "      <td>It's amazing that when you want to defend C...</td>\n",
              "      <td>its amazing that when you want to defend ch...</td>\n",
              "      <td>amazing want defend chauncey subject ask defen...</td>\n",
              "      <td>1</td>\n",
              "      <td>0</td>\n",
              "      <td>1</td>\n",
              "    </tr>\n",
              "    <tr>\n",
              "      <th>7</th>\n",
              "      <td>7</td>\n",
              "      <td>7</td>\n",
              "      <td>blunthonesty4</td>\n",
              "      <td>Last I heard unfortunately it's similar in ...</td>\n",
              "      <td>last i heard unfortunately its similar in a...</td>\n",
              "      <td>last heard unfortunately similar aus woman rap...</td>\n",
              "      <td>1</td>\n",
              "      <td>0</td>\n",
              "      <td>6</td>\n",
              "    </tr>\n",
              "    <tr>\n",
              "      <th>8</th>\n",
              "      <td>8</td>\n",
              "      <td>8</td>\n",
              "      <td>seanrosssapp</td>\n",
              "      <td>Oh, you're talking about the guy who implied...</td>\n",
              "      <td>oh youre talking about the guy who implied t...</td>\n",
              "      <td>oh youre talking guy implied illegitimate chil...</td>\n",
              "      <td>0</td>\n",
              "      <td>0</td>\n",
              "      <td>2</td>\n",
              "    </tr>\n",
              "    <tr>\n",
              "      <th>9</th>\n",
              "      <td>9</td>\n",
              "      <td>9</td>\n",
              "      <td>menopausemum</td>\n",
              "      <td>Well I donât see why we should pay him a p...</td>\n",
              "      <td>well i don  t see why we should pay him a pe...</td>\n",
              "      <td>well see pay penny groping side chicks assbut ...</td>\n",
              "      <td>0</td>\n",
              "      <td>0</td>\n",
              "      <td>0</td>\n",
              "    </tr>\n",
              "    <tr>\n",
              "      <th>10</th>\n",
              "      <td>10</td>\n",
              "      <td>10</td>\n",
              "      <td>roseygoodman</td>\n",
              "      <td>way to #VictimBlame. A woman gets assaulted b...</td>\n",
              "      <td>way to victimblame a woman gets assaulted by ...</td>\n",
              "      <td>way victimblame woman gets assaulted maskhole ...</td>\n",
              "      <td>0</td>\n",
              "      <td>0</td>\n",
              "      <td>0</td>\n",
              "    </tr>\n",
              "    <tr>\n",
              "      <th>11</th>\n",
              "      <td>11</td>\n",
              "      <td>11</td>\n",
              "      <td>imasample13</td>\n",
              "      <td>It was reported that Floyd was the assailan...</td>\n",
              "      <td>it was reported that floyd was the assailan...</td>\n",
              "      <td>reported floyd assailant crime involving viole...</td>\n",
              "      <td>1</td>\n",
              "      <td>0</td>\n",
              "      <td>0</td>\n",
              "    </tr>\n",
              "    <tr>\n",
              "      <th>12</th>\n",
              "      <td>12</td>\n",
              "      <td>12</td>\n",
              "      <td>2keercous</td>\n",
              "      <td>Didn't he sxually assault a woman</td>\n",
              "      <td>didnt he sxually assault a woman</td>\n",
              "      <td>didnt sxually assault woman</td>\n",
              "      <td>0</td>\n",
              "      <td>0</td>\n",
              "      <td>0</td>\n",
              "    </tr>\n",
              "    <tr>\n",
              "      <th>13</th>\n",
              "      <td>13</td>\n",
              "      <td>13</td>\n",
              "      <td>notalottamani</td>\n",
              "      <td>You played the role of the âundesirableâ l...</td>\n",
              "      <td>you played the role of the   undesirable   lou...</td>\n",
              "      <td>played role undesirable loud brazen black woma...</td>\n",
              "      <td>0</td>\n",
              "      <td>2</td>\n",
              "      <td>16</td>\n",
              "    </tr>\n",
              "    <tr>\n",
              "      <th>14</th>\n",
              "      <td>14</td>\n",
              "      <td>14</td>\n",
              "      <td>colinfry666</td>\n",
              "      <td>I think you deserve a highly-paid advisor rol...</td>\n",
              "      <td>i think you deserve a highlypaid advisor role...</td>\n",
              "      <td>think deserve highlypaid advisor role hancock ...</td>\n",
              "      <td>1</td>\n",
              "      <td>0</td>\n",
              "      <td>1</td>\n",
              "    </tr>\n",
              "    <tr>\n",
              "      <th>15</th>\n",
              "      <td>15</td>\n",
              "      <td>15</td>\n",
              "      <td>fakesghostin</td>\n",
              "      <td>men thinks that womens generalise men for a ra...</td>\n",
              "      <td>men thinks that womens generalise men for a ra...</td>\n",
              "      <td>men thinks womens generalise men rape sexual a...</td>\n",
              "      <td>0</td>\n",
              "      <td>0</td>\n",
              "      <td>0</td>\n",
              "    </tr>\n",
              "    <tr>\n",
              "      <th>16</th>\n",
              "      <td>16</td>\n",
              "      <td>16</td>\n",
              "      <td>ehholiviaa</td>\n",
              "      <td>not this woman trying to excuse assault.</td>\n",
              "      <td>not this woman trying to excuse assault</td>\n",
              "      <td>woman trying excuse assault</td>\n",
              "      <td>1</td>\n",
              "      <td>0</td>\n",
              "      <td>1</td>\n",
              "    </tr>\n",
              "    <tr>\n",
              "      <th>17</th>\n",
              "      <td>17</td>\n",
              "      <td>17</td>\n",
              "      <td>succubus_pride</td>\n",
              "      <td>â£ï¸: Okay so- As true as this is in recent...</td>\n",
              "      <td>okay so as true as this is in recent years...</td>\n",
              "      <td>okay true recent years cant use mens r statist...</td>\n",
              "      <td>2</td>\n",
              "      <td>0</td>\n",
              "      <td>0</td>\n",
              "    </tr>\n",
              "    <tr>\n",
              "      <th>18</th>\n",
              "      <td>18</td>\n",
              "      <td>18</td>\n",
              "      <td>llarim9</td>\n",
              "      <td>ummm this nigga wrote a song ab stalking &amp;amp;...</td>\n",
              "      <td>ummm this nigga wrote a song ab stalking  rpin...</td>\n",
              "      <td>ummm nigga wrote song ab stalking rping woman</td>\n",
              "      <td>2</td>\n",
              "      <td>0</td>\n",
              "      <td>0</td>\n",
              "    </tr>\n",
              "    <tr>\n",
              "      <th>19</th>\n",
              "      <td>19</td>\n",
              "      <td>19</td>\n",
              "      <td>ben_ac_elliott</td>\n",
              "      <td>They're so utterly made insane by inane nonse...</td>\n",
              "      <td>theyre so utterly made insane by inane nonsen...</td>\n",
              "      <td>theyre utterly made insane inane nonsense grow...</td>\n",
              "      <td>1</td>\n",
              "      <td>3</td>\n",
              "      <td>66</td>\n",
              "    </tr>\n",
              "    <tr>\n",
              "      <th>20</th>\n",
              "      <td>20</td>\n",
              "      <td>20</td>\n",
              "      <td>dukeoriordan</td>\n",
              "      <td>Married man who commits adultery with a marrie...</td>\n",
              "      <td>married man who commits adultery with a marrie...</td>\n",
              "      <td>married man commits adultery married woman put...</td>\n",
              "      <td>0</td>\n",
              "      <td>0</td>\n",
              "      <td>1</td>\n",
              "    </tr>\n",
              "    <tr>\n",
              "      <th>21</th>\n",
              "      <td>21</td>\n",
              "      <td>21</td>\n",
              "      <td>qshironalbertie</td>\n",
              "      <td>I feel for any woman (anyone) who experienced...</td>\n",
              "      <td>i feel for any woman anyone who experienced a...</td>\n",
              "      <td>feel woman anyone experienced sexual physical ...</td>\n",
              "      <td>0</td>\n",
              "      <td>0</td>\n",
              "      <td>0</td>\n",
              "    </tr>\n",
              "    <tr>\n",
              "      <th>22</th>\n",
              "      <td>22</td>\n",
              "      <td>22</td>\n",
              "      <td>marinersilas</td>\n",
              "      <td>If Freddie Mercury walked into the women's se...</td>\n",
              "      <td>if freddie mercury walked into the womens sec...</td>\n",
              "      <td>freddie mercury walked womens section guy whos...</td>\n",
              "      <td>0</td>\n",
              "      <td>1</td>\n",
              "      <td>0</td>\n",
              "    </tr>\n",
              "    <tr>\n",
              "      <th>23</th>\n",
              "      <td>23</td>\n",
              "      <td>23</td>\n",
              "      <td>nogoodchuck2</td>\n",
              "      <td>White woman, admits to stalking and harassing ...</td>\n",
              "      <td>white woman admits to stalking and harassing a...</td>\n",
              "      <td>white woman admits stalking harassing black wo...</td>\n",
              "      <td>0</td>\n",
              "      <td>1</td>\n",
              "      <td>5</td>\n",
              "    </tr>\n",
              "    <tr>\n",
              "      <th>24</th>\n",
              "      <td>24</td>\n",
              "      <td>24</td>\n",
              "      <td>twistedtwinsin1</td>\n",
              "      <td>â competition, clever, the other woman. â ...</td>\n",
              "      <td>competition clever the other woman    heart...</td>\n",
              "      <td>competition clever woman heartbreak pain separ...</td>\n",
              "      <td>1</td>\n",
              "      <td>0</td>\n",
              "      <td>1</td>\n",
              "    </tr>\n",
              "    <tr>\n",
              "      <th>25</th>\n",
              "      <td>25</td>\n",
              "      <td>25</td>\n",
              "      <td>msmimz1</td>\n",
              "      <td>âMimz Mimz Mimz Mimz Mimz Mimzâ.   I can ...</td>\n",
              "      <td>mimz mimz mimz mimz mimz mimz     i can ima...</td>\n",
              "      <td>mimz mimz mimz mimz mimz mimz imagine officer ...</td>\n",
              "      <td>0</td>\n",
              "      <td>0</td>\n",
              "      <td>1</td>\n",
              "    </tr>\n",
              "    <tr>\n",
              "      <th>26</th>\n",
              "      <td>26</td>\n",
              "      <td>27</td>\n",
              "      <td>imshanereaction</td>\n",
              "      <td>And for the love of God please no more pictur...</td>\n",
              "      <td>and for the love of god please no more pictur...</td>\n",
              "      <td>love god please pictures man groping woman lik...</td>\n",
              "      <td>1</td>\n",
              "      <td>0</td>\n",
              "      <td>14</td>\n",
              "    </tr>\n",
              "    <tr>\n",
              "      <th>27</th>\n",
              "      <td>27</td>\n",
              "      <td>28</td>\n",
              "      <td>bgwritesstuff</td>\n",
              "      <td>I love New York. We will ALL take the time out...</td>\n",
              "      <td>i love new york we will all take the time out ...</td>\n",
              "      <td>love new york take time busy day beat assault ...</td>\n",
              "      <td>0</td>\n",
              "      <td>0</td>\n",
              "      <td>1</td>\n",
              "    </tr>\n",
              "    <tr>\n",
              "      <th>28</th>\n",
              "      <td>28</td>\n",
              "      <td>29</td>\n",
              "      <td>nayomss4dcash</td>\n",
              "      <td>You slyed our date to be stalking woman abi</td>\n",
              "      <td>you slyed our date to be stalking woman abi</td>\n",
              "      <td>slyed date stalking woman abi</td>\n",
              "      <td>1</td>\n",
              "      <td>1</td>\n",
              "      <td>2</td>\n",
              "    </tr>\n",
              "    <tr>\n",
              "      <th>29</th>\n",
              "      <td>29</td>\n",
              "      <td>30</td>\n",
              "      <td>tracyrwyatt</td>\n",
              "      <td>This individual has been harassing and sta...</td>\n",
              "      <td>this individual has been harassing and sta...</td>\n",
              "      <td>individual harassing stalking woman year time ...</td>\n",
              "      <td>0</td>\n",
              "      <td>0</td>\n",
              "      <td>1</td>\n",
              "    </tr>\n",
              "  </tbody>\n",
              "</table>\n",
              "</div>"
            ],
            "text/plain": [
              "    Unnamed: 0  Unnamed: 0.1         username  ... replies retweets likes\n",
              "0            0             0      shaybspears  ...       1       14    27\n",
              "1            1             1  kaylanicole9991  ...       1        0     0\n",
              "2            2             2    marge78355824  ...       1        0     1\n",
              "3            3             3   explorevenango  ...       0        0     0\n",
              "4            4             4   politikscommon  ...       1        0     0\n",
              "5            5             5  lulabelldesigns  ...       0        1     3\n",
              "6            6             6         cole_wex  ...       1        0     1\n",
              "7            7             7    blunthonesty4  ...       1        0     6\n",
              "8            8             8     seanrosssapp  ...       0        0     2\n",
              "9            9             9     menopausemum  ...       0        0     0\n",
              "10          10            10     roseygoodman  ...       0        0     0\n",
              "11          11            11      imasample13  ...       1        0     0\n",
              "12          12            12        2keercous  ...       0        0     0\n",
              "13          13            13    notalottamani  ...       0        2    16\n",
              "14          14            14      colinfry666  ...       1        0     1\n",
              "15          15            15     fakesghostin  ...       0        0     0\n",
              "16          16            16       ehholiviaa  ...       1        0     1\n",
              "17          17            17   succubus_pride  ...       2        0     0\n",
              "18          18            18          llarim9  ...       2        0     0\n",
              "19          19            19   ben_ac_elliott  ...       1        3    66\n",
              "20          20            20     dukeoriordan  ...       0        0     1\n",
              "21          21            21  qshironalbertie  ...       0        0     0\n",
              "22          22            22     marinersilas  ...       0        1     0\n",
              "23          23            23     nogoodchuck2  ...       0        1     5\n",
              "24          24            24  twistedtwinsin1  ...       1        0     1\n",
              "25          25            25          msmimz1  ...       0        0     1\n",
              "26          26            27  imshanereaction  ...       1        0    14\n",
              "27          27            28    bgwritesstuff  ...       0        0     1\n",
              "28          28            29    nayomss4dcash  ...       1        1     2\n",
              "29          29            30      tracyrwyatt  ...       0        0     1\n",
              "\n",
              "[30 rows x 9 columns]"
            ]
          },
          "metadata": {
            "tags": []
          },
          "execution_count": 115
        }
      ]
    },
    {
      "cell_type": "code",
      "metadata": {
        "id": "c98I93kDvQ7p"
      },
      "source": [
        "#drop Nas\n",
        "df.dropna(inplace=True, axis=0)\n",
        "df.isna().sum()\n",
        "tweet_df=df.copy()"
      ],
      "execution_count": null,
      "outputs": []
    },
    {
      "cell_type": "markdown",
      "metadata": {
        "id": "zfmJk5RtNjLD"
      },
      "source": [
        "Sentiment Analysis\n",
        "We use the Flair Classifier to get Polarity and Result and add those fields to our dataframe."
      ]
    },
    {
      "cell_type": "code",
      "metadata": {
        "colab": {
          "base_uri": "https://localhost:8080/",
          "height": 52
        },
        "id": "yhD41WgJvfY5",
        "outputId": "79436d15-caac-4d09-baf3-d7233b72d342"
      },
      "source": [
        "df['clean_tweets'][0]"
      ],
      "execution_count": null,
      "outputs": [
        {
          "output_type": "execute_result",
          "data": {
            "application/vnd.google.colaboratory.intrinsic+json": {
              "type": "string"
            },
            "text/plain": [
              "'we should talk more about how this dangerous woman was stalking britney sending her creepy emails about   a gay demon   and britney reported her to her lawyer but instead of issuing a restraining order against her jamie spears made her brit'"
            ]
          },
          "metadata": {
            "tags": []
          },
          "execution_count": 117
        }
      ]
    },
    {
      "cell_type": "code",
      "metadata": {
        "colab": {
          "base_uri": "https://localhost:8080/"
        },
        "id": "sxNUd3b0cnuq",
        "outputId": "91c7f18f-617b-4bd0-b790-79326e0f2993"
      },
      "source": [
        "#Lets check the sentiment of the first 3 tweets\n",
        "df['clean_tweets'][:2].apply(lambda y: TextBlob(y).sentiment)"
      ],
      "execution_count": null,
      "outputs": [
        {
          "output_type": "execute_result",
          "data": {
            "text/plain": [
              "0    (-0.04583333333333332, 0.7458333333333333)\n",
              "1                   (0.18333333333333335, 0.55)\n",
              "Name: clean_tweets, dtype: object"
            ]
          },
          "metadata": {
            "tags": []
          },
          "execution_count": 118
        }
      ]
    },
    {
      "cell_type": "code",
      "metadata": {
        "colab": {
          "base_uri": "https://localhost:8080/",
          "height": 710
        },
        "id": "MIzR8J1Qr9CR",
        "outputId": "a019a7e1-06f0-4a03-9e59-41ac674229d2"
      },
      "source": [
        "#We only extract the polarity and subjectivity of all the clean tweets\n",
        "# df['polarity'] = df['clean_tweets'][:20].apply(lambda y: TextBlob(y).sentiment[0])\n",
        "# df['subjectivity']=df['clean_tweets'][:20].apply(lambda y: TextBlob(y).sentiment[1])\n",
        "polarity=[]\n",
        "subjectivity=[]\n",
        "for text in df['clean_tweets']:\n",
        "  text=TextBlob(text)\n",
        "  sentiment=text.sentiment\n",
        "  polarity.append(sentiment[0])\n",
        "  subjectivity.append(sentiment[1])\n",
        "df['polarity']=polarity\n",
        "df['subjectivity']=subjectivity\n",
        "\n",
        "\n",
        "  #print(sentiment[0],sentiment[1])\n",
        "df.head(10)\n"
      ],
      "execution_count": null,
      "outputs": [
        {
          "output_type": "execute_result",
          "data": {
            "text/html": [
              "<div>\n",
              "<style scoped>\n",
              "    .dataframe tbody tr th:only-of-type {\n",
              "        vertical-align: middle;\n",
              "    }\n",
              "\n",
              "    .dataframe tbody tr th {\n",
              "        vertical-align: top;\n",
              "    }\n",
              "\n",
              "    .dataframe thead th {\n",
              "        text-align: right;\n",
              "    }\n",
              "</style>\n",
              "<table border=\"1\" class=\"dataframe\">\n",
              "  <thead>\n",
              "    <tr style=\"text-align: right;\">\n",
              "      <th></th>\n",
              "      <th>Unnamed: 0</th>\n",
              "      <th>Unnamed: 0.1</th>\n",
              "      <th>username</th>\n",
              "      <th>new_tweets</th>\n",
              "      <th>clean_tweets</th>\n",
              "      <th>tweets_without_stopwords</th>\n",
              "      <th>replies</th>\n",
              "      <th>retweets</th>\n",
              "      <th>likes</th>\n",
              "      <th>polarity</th>\n",
              "      <th>subjectivity</th>\n",
              "    </tr>\n",
              "  </thead>\n",
              "  <tbody>\n",
              "    <tr>\n",
              "      <th>0</th>\n",
              "      <td>0</td>\n",
              "      <td>0</td>\n",
              "      <td>shaybspears</td>\n",
              "      <td>We should talk more about how this dangerous w...</td>\n",
              "      <td>we should talk more about how this dangerous w...</td>\n",
              "      <td>talk dangerous woman stalking britney sending ...</td>\n",
              "      <td>1</td>\n",
              "      <td>14</td>\n",
              "      <td>27</td>\n",
              "      <td>-0.045833</td>\n",
              "      <td>0.745833</td>\n",
              "    </tr>\n",
              "    <tr>\n",
              "      <th>1</th>\n",
              "      <td>1</td>\n",
              "      <td>1</td>\n",
              "      <td>kaylanicole9991</td>\n",
              "      <td>And no, getting me drunk wonât work. After w...</td>\n",
              "      <td>and no getting me drunk won  t work after what...</td>\n",
              "      <td>getting drunk work happened male best friend j...</td>\n",
              "      <td>1</td>\n",
              "      <td>0</td>\n",
              "      <td>0</td>\n",
              "      <td>0.183333</td>\n",
              "      <td>0.550000</td>\n",
              "    </tr>\n",
              "    <tr>\n",
              "      <th>2</th>\n",
              "      <td>2</td>\n",
              "      <td>2</td>\n",
              "      <td>marge78355824</td>\n",
              "      <td>Itâs not just about seeing a random penis...</td>\n",
              "      <td>it  s not just about seeing a random penis ...</td>\n",
              "      <td>seeing random penis fear every woman sexual vi...</td>\n",
              "      <td>1</td>\n",
              "      <td>0</td>\n",
              "      <td>1</td>\n",
              "      <td>0.062500</td>\n",
              "      <td>0.553333</td>\n",
              "    </tr>\n",
              "    <tr>\n",
              "      <th>3</th>\n",
              "      <td>3</td>\n",
              "      <td>3</td>\n",
              "      <td>explorevenango</td>\n",
              "      <td>A Franklin woman who left multiple messages in...</td>\n",
              "      <td>a franklin woman who left multiple messages in...</td>\n",
              "      <td>franklin woman left multiple messages attempt ...</td>\n",
              "      <td>0</td>\n",
              "      <td>0</td>\n",
              "      <td>0</td>\n",
              "      <td>0.106250</td>\n",
              "      <td>0.220833</td>\n",
              "    </tr>\n",
              "    <tr>\n",
              "      <th>4</th>\n",
              "      <td>4</td>\n",
              "      <td>4</td>\n",
              "      <td>politikscommon</td>\n",
              "      <td>I did read the details. Walker was also sue...</td>\n",
              "      <td>i did read the details walker was also sued...</td>\n",
              "      <td>read details walker also sued woman accused wa...</td>\n",
              "      <td>1</td>\n",
              "      <td>0</td>\n",
              "      <td>0</td>\n",
              "      <td>0.050000</td>\n",
              "      <td>0.350000</td>\n",
              "    </tr>\n",
              "    <tr>\n",
              "      <th>5</th>\n",
              "      <td>5</td>\n",
              "      <td>5</td>\n",
              "      <td>lulabelldesigns</td>\n",
              "      <td>ALERT: Devin Nunes needs your help ASAP. We MU...</td>\n",
              "      <td>alert devin nunes needs your help asap we must...</td>\n",
              "      <td>alert devin nunes needs help asap must defend ...</td>\n",
              "      <td>0</td>\n",
              "      <td>1</td>\n",
              "      <td>3</td>\n",
              "      <td>0.000000</td>\n",
              "      <td>0.000000</td>\n",
              "    </tr>\n",
              "    <tr>\n",
              "      <th>6</th>\n",
              "      <td>6</td>\n",
              "      <td>6</td>\n",
              "      <td>cole_wex</td>\n",
              "      <td>It's amazing that when you want to defend C...</td>\n",
              "      <td>its amazing that when you want to defend ch...</td>\n",
              "      <td>amazing want defend chauncey subject ask defen...</td>\n",
              "      <td>1</td>\n",
              "      <td>0</td>\n",
              "      <td>1</td>\n",
              "      <td>0.127778</td>\n",
              "      <td>0.504167</td>\n",
              "    </tr>\n",
              "    <tr>\n",
              "      <th>7</th>\n",
              "      <td>7</td>\n",
              "      <td>7</td>\n",
              "      <td>blunthonesty4</td>\n",
              "      <td>Last I heard unfortunately it's similar in ...</td>\n",
              "      <td>last i heard unfortunately its similar in a...</td>\n",
              "      <td>last heard unfortunately similar aus woman rap...</td>\n",
              "      <td>1</td>\n",
              "      <td>0</td>\n",
              "      <td>6</td>\n",
              "      <td>-0.125926</td>\n",
              "      <td>0.548148</td>\n",
              "    </tr>\n",
              "    <tr>\n",
              "      <th>8</th>\n",
              "      <td>8</td>\n",
              "      <td>8</td>\n",
              "      <td>seanrosssapp</td>\n",
              "      <td>Oh, you're talking about the guy who implied...</td>\n",
              "      <td>oh youre talking about the guy who implied t...</td>\n",
              "      <td>oh youre talking guy implied illegitimate chil...</td>\n",
              "      <td>0</td>\n",
              "      <td>0</td>\n",
              "      <td>2</td>\n",
              "      <td>0.150000</td>\n",
              "      <td>0.150000</td>\n",
              "    </tr>\n",
              "    <tr>\n",
              "      <th>9</th>\n",
              "      <td>9</td>\n",
              "      <td>9</td>\n",
              "      <td>menopausemum</td>\n",
              "      <td>Well I donât see why we should pay him a p...</td>\n",
              "      <td>well i don  t see why we should pay him a pe...</td>\n",
              "      <td>well see pay penny groping side chicks assbut ...</td>\n",
              "      <td>0</td>\n",
              "      <td>0</td>\n",
              "      <td>0</td>\n",
              "      <td>0.000000</td>\n",
              "      <td>0.000000</td>\n",
              "    </tr>\n",
              "  </tbody>\n",
              "</table>\n",
              "</div>"
            ],
            "text/plain": [
              "   Unnamed: 0  Unnamed: 0.1         username  ... likes  polarity subjectivity\n",
              "0           0             0      shaybspears  ...    27 -0.045833     0.745833\n",
              "1           1             1  kaylanicole9991  ...     0  0.183333     0.550000\n",
              "2           2             2    marge78355824  ...     1  0.062500     0.553333\n",
              "3           3             3   explorevenango  ...     0  0.106250     0.220833\n",
              "4           4             4   politikscommon  ...     0  0.050000     0.350000\n",
              "5           5             5  lulabelldesigns  ...     3  0.000000     0.000000\n",
              "6           6             6         cole_wex  ...     1  0.127778     0.504167\n",
              "7           7             7    blunthonesty4  ...     6 -0.125926     0.548148\n",
              "8           8             8     seanrosssapp  ...     2  0.150000     0.150000\n",
              "9           9             9     menopausemum  ...     0  0.000000     0.000000\n",
              "\n",
              "[10 rows x 11 columns]"
            ]
          },
          "metadata": {
            "tags": []
          },
          "execution_count": 119
        }
      ]
    },
    {
      "cell_type": "code",
      "metadata": {
        "colab": {
          "base_uri": "https://localhost:8080/"
        },
        "id": "kZ7X3ilZbcBX",
        "outputId": "0ce62b29-ea68-472c-bf01-629f069eee35"
      },
      "source": [
        "df['polarity'].sort_values(ascending=False)"
      ],
      "execution_count": null,
      "outputs": [
        {
          "output_type": "execute_result",
          "data": {
            "text/plain": [
              "40219    1.0\n",
              "42328    1.0\n",
              "33555    1.0\n",
              "16427    1.0\n",
              "42833    1.0\n",
              "        ... \n",
              "6351    -1.0\n",
              "1432    -1.0\n",
              "9261    -1.0\n",
              "33179   -1.0\n",
              "4906    -1.0\n",
              "Name: polarity, Length: 46172, dtype: float64"
            ]
          },
          "metadata": {
            "tags": []
          },
          "execution_count": 120
        }
      ]
    },
    {
      "cell_type": "code",
      "metadata": {
        "id": "jekE3qlcgnrx"
      },
      "source": [
        "sent=[]\n",
        "for val in df['polarity']:\n",
        "  if float(val) < 0:\n",
        "    sentiment=\"Negative\"\n",
        "  elif float(val)==0:\n",
        "    sentiment=\"Neutral\"\n",
        "  elif float(val) > 0:\n",
        "    sentiment=\"Positive\"\n",
        "  #print(sentiment)\n",
        "  sent.append(sentiment)\n",
        "\n",
        "df['sentiment']=sent\n",
        "\n"
      ],
      "execution_count": null,
      "outputs": []
    },
    {
      "cell_type": "code",
      "metadata": {
        "id": "X8qcj963dPOW"
      },
      "source": [
        "# sent=[]  \n",
        "# def checkSentiment(x):\n",
        "#   for val in x:\n",
        "#     if float(val) < 0:\n",
        "#       sentiment=\"Negative\"\n",
        "#     elif float(val)==0:\n",
        "#       sentiment=\"Neutral\"\n",
        "#     elif float(val) > 0:\n",
        "#       sentiment=\"Positive\"\n",
        "#     print(sentiment)\n",
        "#     sent.append(sentiment)\n",
        "#   return sent"
      ],
      "execution_count": null,
      "outputs": []
    },
    {
      "cell_type": "code",
      "metadata": {
        "id": "2cfr9XO054Pn"
      },
      "source": [
        "#df['senti']= checkSentiment(df['polarity'])\n"
      ],
      "execution_count": null,
      "outputs": []
    },
    {
      "cell_type": "code",
      "metadata": {
        "colab": {
          "base_uri": "https://localhost:8080/"
        },
        "id": "1IpzxgKPa5U_",
        "outputId": "0c54c9ed-1b2a-4d72-b872-2e21d3e64e54"
      },
      "source": [
        "df.info()"
      ],
      "execution_count": null,
      "outputs": [
        {
          "output_type": "stream",
          "text": [
            "<class 'pandas.core.frame.DataFrame'>\n",
            "Int64Index: 46172 entries, 0 to 46171\n",
            "Data columns (total 12 columns):\n",
            " #   Column                    Non-Null Count  Dtype  \n",
            "---  ------                    --------------  -----  \n",
            " 0   Unnamed: 0                46172 non-null  int64  \n",
            " 1   Unnamed: 0.1              46172 non-null  int64  \n",
            " 2   username                  46172 non-null  object \n",
            " 3   new_tweets                46172 non-null  object \n",
            " 4   clean_tweets              46172 non-null  object \n",
            " 5   tweets_without_stopwords  46172 non-null  object \n",
            " 6   replies                   46172 non-null  object \n",
            " 7   retweets                  46172 non-null  object \n",
            " 8   likes                     46172 non-null  object \n",
            " 9   polarity                  46172 non-null  float64\n",
            " 10  subjectivity              46172 non-null  float64\n",
            " 11  sentiment                 46172 non-null  object \n",
            "dtypes: float64(2), int64(2), object(8)\n",
            "memory usage: 5.8+ MB\n"
          ],
          "name": "stdout"
        }
      ]
    },
    {
      "cell_type": "code",
      "metadata": {
        "colab": {
          "base_uri": "https://localhost:8080/",
          "height": 17
        },
        "id": "uCsclFaNrUvk",
        "outputId": "2a96f603-59c2-4b28-ff2f-978835616e31"
      },
      "source": [
        "#divide the data and save\n",
        "df.to_csv(\"GBV_data_clean_v02.csv\")\n",
        "from google.colab import files\n",
        "files.download('GBV_data_clean_v02.csv')"
      ],
      "execution_count": null,
      "outputs": [
        {
          "output_type": "display_data",
          "data": {
            "application/javascript": [
              "\n",
              "    async function download(id, filename, size) {\n",
              "      if (!google.colab.kernel.accessAllowed) {\n",
              "        return;\n",
              "      }\n",
              "      const div = document.createElement('div');\n",
              "      const label = document.createElement('label');\n",
              "      label.textContent = `Downloading \"${filename}\": `;\n",
              "      div.appendChild(label);\n",
              "      const progress = document.createElement('progress');\n",
              "      progress.max = size;\n",
              "      div.appendChild(progress);\n",
              "      document.body.appendChild(div);\n",
              "\n",
              "      const buffers = [];\n",
              "      let downloaded = 0;\n",
              "\n",
              "      const channel = await google.colab.kernel.comms.open(id);\n",
              "      // Send a message to notify the kernel that we're ready.\n",
              "      channel.send({})\n",
              "\n",
              "      for await (const message of channel.messages) {\n",
              "        // Send a message to notify the kernel that we're ready.\n",
              "        channel.send({})\n",
              "        if (message.buffers) {\n",
              "          for (const buffer of message.buffers) {\n",
              "            buffers.push(buffer);\n",
              "            downloaded += buffer.byteLength;\n",
              "            progress.value = downloaded;\n",
              "          }\n",
              "        }\n",
              "      }\n",
              "      const blob = new Blob(buffers, {type: 'application/binary'});\n",
              "      const a = document.createElement('a');\n",
              "      a.href = window.URL.createObjectURL(blob);\n",
              "      a.download = filename;\n",
              "      div.appendChild(a);\n",
              "      a.click();\n",
              "      div.remove();\n",
              "    }\n",
              "  "
            ],
            "text/plain": [
              "<IPython.core.display.Javascript object>"
            ]
          },
          "metadata": {
            "tags": []
          }
        },
        {
          "output_type": "display_data",
          "data": {
            "application/javascript": [
              "download(\"download_c5930ca5-cd2e-4e6f-af65-637e8833b55b\", \"GBV_data_clean_v02.csv\", 23663449)"
            ],
            "text/plain": [
              "<IPython.core.display.Javascript object>"
            ]
          },
          "metadata": {
            "tags": []
          }
        }
      ]
    }
  ]
}